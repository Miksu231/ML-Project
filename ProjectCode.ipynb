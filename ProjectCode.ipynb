{
 "cells": [
  {
   "cell_type": "code",
   "execution_count": 8,
   "metadata": {},
   "outputs": [],
   "source": [
    "import numpy as np\n",
    "import pandas as pd\n",
    "import matplotlib.pyplot as plt \n",
    "\n",
    "from sklearn.model_selection import train_test_split\n",
    "from sklearn.preprocessing import PolynomialFeatures\n",
    "from sklearn.linear_model import LinearRegression\n",
    "from sklearn.metrics import mean_squared_error\n"
   ]
  },
  {
   "cell_type": "code",
   "execution_count": 9,
   "metadata": {},
   "outputs": [],
   "source": [
    "df = pd.read_csv('energy_dataset.csv')\n",
    "df2 = pd.read_csv('weather_features.csv')"
   ]
  },
  {
   "cell_type": "code",
   "execution_count": 10,
   "metadata": {},
   "outputs": [],
   "source": [
    "df.drop(columns=['generation biomass', 'generation fossil brown coal/lignite',\n",
    "       'generation fossil coal-derived gas', 'generation fossil gas',\n",
    "       'generation fossil hard coal', 'generation fossil oil',\n",
    "       'generation fossil oil shale', 'generation fossil peat',\n",
    "       'generation geothermal', 'generation hydro pumped storage aggregated',\n",
    "       'generation hydro pumped storage consumption',\n",
    "       'generation hydro run-of-river and poundage',\n",
    "       'generation hydro water reservoir', 'generation marine',\n",
    "       'generation nuclear', 'generation other', 'generation other renewable',\n",
    "       'generation solar', 'generation waste', 'generation wind offshore','forecast solar day ahead',\n",
    "       'forecast wind offshore eday ahead', 'forecast wind onshore day ahead',\n",
    "       'total load forecast', 'total load actual', 'price day ahead',\n",
    "       'price actual'], inplace=True)   #Drop all the unnecessary energy readings, only wind power and timestamp are needed\n",
    "       \n",
    "df2.drop(columns=['temp_min', 'temp_max','rain_1h', 'rain_3h', 'snow_3h',           \n",
    "       'clouds_all', 'weather_id', 'weather_main', 'weather_description',\n",
    "       'weather_icon'], inplace=True) #Only timestamp, city, temperature, humidity, pressure, wind speed and wind direction are needed"
   ]
  },
  {
   "cell_type": "code",
   "execution_count": 11,
   "metadata": {},
   "outputs": [],
   "source": [
    "ValenciaWeather = df2[df2['city_name'] == 'Valencia'].drop(columns=['city_name'])\n",
    "MadridWeather = df2[df2['city_name'] == 'Madrid'].drop(columns=['city_name'])\n",
    "BilbaoWeather = df2[df2['city_name'] == 'Bilbao'].drop(columns=['city_name'])\n",
    "SevilleWeather = df2[df2['city_name'] == 'Seville'].drop(columns=['city_name'])\n",
    "BarcelonaWeather = df2[df2['city_name'] == ' Barcelona'].drop(columns=['city_name'])\n",
    "#Split weather data into 5 dataframes based on the city it is in\n",
    "\n",
    "ValenciaWeather.columns =['time','ValTemp', 'ValPressure', 'ValHumidity', 'ValWind_speed', 'ValWind_deg']\n",
    "MadridWeather.columns =['time','MadTemp', 'MadPressure', 'MadHumidity', 'MadWind_speed', 'MadWind_deg']\n",
    "BilbaoWeather.columns =['time','BilTemp', 'BilPressure', 'BilHumidity', 'BilWind_speed', 'BilWind_deg']\n",
    "SevilleWeather.columns =['time','SevTemp', 'SevPressure', 'SevHumidity', 'SevWind_speed', 'SevWind_deg']\n",
    "BarcelonaWeather.columns =['time','BarTemp', 'BarPressure', 'BarHumidity', 'BarWind_speed', 'BarWind_deg']\n",
    "\n",
    "merged_df = ValenciaWeather.merge(MadridWeather, how='left', on = ['time']).merge(\n",
    "    BilbaoWeather, how='left', on = ['time']).merge(SevilleWeather, how='left', on = ['time']).merge(BarcelonaWeather, how='left', on = ['time']\n",
    "    ).merge(df, how='left', on=['time']).dropna()\n",
    "#Join all of the dataframes based on the timestamp\n",
    "\n",
    "merged_df.drop(columns=['time'],inplace=True)\n",
    "#We no longer need the time, now that we have joined the tables\n"
   ]
  },
  {
   "cell_type": "code",
   "execution_count": 12,
   "metadata": {},
   "outputs": [],
   "source": [
    "X = merged_df.drop(columns=['generation wind onshore']).to_numpy()\n",
    "y = merged_df['generation wind onshore'].to_numpy()\n",
    "\n",
    "X_rem, X_train, y_rem, y_train = train_test_split(X,y, test_size=0.60, random_state=42)\n",
    "\n",
    "X_val, X_test, y_val, y_test = train_test_split(X_rem, y_rem, test_size=0.5, random_state=42)"
   ]
  },
  {
   "cell_type": "code",
   "execution_count": 30,
   "metadata": {},
   "outputs": [
    {
     "name": "stdout",
     "output_type": "stream",
     "text": [
      "The training error is:  5172230.89604438\n",
      "The validation error is:  3458170070818884.0\n"
     ]
    }
   ],
   "source": [
    "lin_regr = LinearRegression() \n",
    "poly = PolynomialFeatures(degree=3) \n",
    "X_train_poly = poly.fit_transform(X_train)\n",
    "lin_regr.fit(X_train_poly, y_train)  \n",
    "y_pred_train = lin_regr.predict(X_train_poly)\n",
    "tr_error = mean_squared_error(y_train, y_pred_train)\n",
    "X_val_poly = poly.transform(X_val)\n",
    "y_pred_val = lin_regr.predict(X_val_poly)\n",
    "val_error = mean_squared_error(y_val, y_pred_val)\n",
    "\n",
    "X_test_poly = poly.transform(X_test)\n",
    "y_pred_test = lin_regr.predict(X_test_poly)\n",
    "test_error = mean_squared_error(y_test, y_pred_test)\n",
    "\n",
    "print(\"The training error is: \", tr_error)\n",
    "print(\"The validation error is: \", val_error)"
   ]
  },
  {
   "cell_type": "code",
   "execution_count": 36,
   "metadata": {},
   "outputs": [
    {
     "name": "stdout",
     "output_type": "stream",
     "text": [
      "The training error is:  7302440.175294697\n",
      "The validation error is:  7663316.157254111\n"
     ]
    }
   ],
   "source": [
    "\n",
    "lin_regr_2 = LinearRegression() \n",
    "poly_2 = PolynomialFeatures(degree=2) \n",
    "X_train_poly_2 = poly_2.fit_transform(X_train)\n",
    "lin_regr_2.fit(X_train_poly_2, y_train)  \n",
    "y_pred_train_2 = lin_regr_2.predict(X_train_poly_2)\n",
    "tr_error_2 = mean_squared_error(y_train, y_pred_train_2)\n",
    "X_val_poly_2 = poly_2.transform(X_val)\n",
    "y_pred_val_2 = lin_regr_2.predict(X_val_poly_2)\n",
    "val_error_2 = mean_squared_error(y_val, y_pred_val_2)\n",
    "\n"
   ]
  },
  {
   "cell_type": "code",
   "execution_count": 45,
   "metadata": {},
   "outputs": [
    {
     "name": "stdout",
     "output_type": "stream",
     "text": [
      "The test error is:  7701241.014779792\n"
     ]
    }
   ],
   "source": [
    "X_test_poly = poly_2.transform(X_test)\n",
    "y_pred_test = lin_regr_2.predict(X_test_poly)\n",
    "test_error = mean_squared_error(y_test, y_pred_test)\n",
    "\n",
    "print(\"The test error is: \", test_error)"
   ]
  },
  {
   "cell_type": "code",
   "execution_count": 44,
   "metadata": {},
   "outputs": [
    {
     "name": "stdout",
     "output_type": "stream",
     "text": [
      "The training error for the first degree is:  8588132.269308927\n",
      "The validation error for the first degree is:  8415322.886178982\n",
      "The training error for the second degree is:  7302440.175294697\n",
      "The validation error for the second degree is:  7663316.157254111\n",
      "The training error for the third degree is:  5172230.89604438\n",
      "The validation error for the third degree is:  3458170070818884.0\n"
     ]
    }
   ],
   "source": [
    "lin_regr_3 = LinearRegression() \n",
    "poly_3 = PolynomialFeatures(degree=1) \n",
    "X_train_poly_3 = poly_3.fit_transform(X_train)\n",
    "lin_regr_3.fit(X_train_poly_3, y_train)  \n",
    "y_pred_train_3 = lin_regr_3.predict(X_train_poly_3)\n",
    "tr_error_3 = mean_squared_error(y_train, y_pred_train_3)\n",
    "X_val_poly_3 = poly_3.transform(X_val)\n",
    "y_pred_val_3 = lin_regr_3.predict(X_val_poly_3)\n",
    "val_error_3 = mean_squared_error(y_val, y_pred_val_3)\n",
    "\n",
    "print(\"The training error for the first degree is: \", tr_error_3)\n",
    "print(\"The validation error for the first degree is: \", val_error_3)\n",
    "print(\"The training error for the second degree is: \", tr_error_2)\n",
    "print(\"The validation error for the second degree is: \", val_error_2)\n",
    "print(\"The training error for the third degree is: \", tr_error)\n",
    "print(\"The validation error for the third degree is: \", val_error)"
   ]
  },
  {
   "cell_type": "code",
   "execution_count": 43,
   "metadata": {},
   "outputs": [
    {
     "data": {
      "text/plain": [
       "<matplotlib.legend.Legend at 0x23e88d6bfd0>"
      ]
     },
     "execution_count": 43,
     "metadata": {},
     "output_type": "execute_result"
    },
    {
     "data": {
      "image/png": "[encoded data removed]",
      "text/plain": [
       "<Figure size 216x360 with 1 Axes>"
      ]
     },
     "metadata": {
      "needs_background": "light"
     },
     "output_type": "display_data"
    },
    {
     "data": {
      "image/png": "[encoded data removed]",
      "text/plain": [
       "<Figure size 216x360 with 1 Axes>"
      ]
     },
     "metadata": {
      "needs_background": "light"
     },
     "output_type": "display_data"
    }
   ],
   "source": [
    "degrees = [1, 2]\n",
    "\n",
    "degrees_2 = [2, 3]\n",
    "\n",
    "fig, axs = plt.subplots(figsize=(3, 5))\n",
    "axs.plot(degrees, [tr_error_3, tr_error_2], color='red', label='Training error')\n",
    "axs.plot(degrees, [val_error_3, val_error_2], color='blue', label='Validation error')\n",
    "axs.set_xlabel('Polynomial degree')\n",
    "axs.set_ylabel('Mean squared error')\n",
    "axs.legend()\n",
    "\n",
    "fig, axs = plt.subplots(figsize=(3, 5))\n",
    "axs.plot(degrees_2, [tr_error_2, tr_error], color='red', label='Training error')\n",
    "axs.plot(degrees_2, [val_error_2, val_error], color='blue', label='Validation error')\n",
    "axs.set_xlabel('Polynomial degree')\n",
    "axs.set_ylabel('Mean squared error')\n",
    "axs.legend()\n",
    "\n"
   ]
  }
 ],
 "metadata": {
  "interpreter": {
   "hash": "3ce816656ad4f59acf2e1a8b685a12bc765382cc9feff2a84891c18505f62356"
  },
  "kernelspec": {
   "display_name": "Python 3.8.6 64-bit",
   "language": "python",
   "name": "python3"
  },
  "language_info": {
   "codemirror_mode": {
    "name": "ipython",
    "version": 3
   },
   "file_extension": ".py",
   "mimetype": "text/x-python",
   "name": "python",
   "nbconvert_exporter": "python",
   "pygments_lexer": "ipython3",
   "version": "3.8.6"
  },
  "orig_nbformat": 4
 },
 "nbformat": 4,
 "nbformat_minor": 2
}
